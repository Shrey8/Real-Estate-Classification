{
 "cells": [
  {
   "cell_type": "markdown",
   "metadata": {},
   "source": [
    "# Load Data & Packages"
   ]
  },
  {
   "cell_type": "markdown",
   "metadata": {},
   "source": [
    "Goal : To predict if two real estate listings are the same without using location variables of any sort "
   ]
  },
  {
   "cell_type": "code",
   "execution_count": 1,
   "metadata": {},
   "outputs": [],
   "source": [
    "import pandas as pd\n",
    "import numpy as np\n",
    "import matplotlib.pyplot as plt\n",
    "import fancyimpute\n",
    "import seaborn as sns"
   ]
  },
  {
   "cell_type": "code",
   "execution_count": 2,
   "metadata": {},
   "outputs": [],
   "source": [
    "pd.set_option('display.max_rows', 500)\n",
    "pd.set_option('display.max_columns', 500)\n",
    "pd.set_option('display.width', 1000)"
   ]
  },
  {
   "cell_type": "code",
   "execution_count": 3,
   "metadata": {},
   "outputs": [
    {
     "name": "stderr",
     "output_type": "stream",
     "text": [
      "b'Skipping line 71425: expected 18 fields, saw 20\\nSkipping line 71499: expected 18 fields, saw 46\\nSkipping line 71692: expected 18 fields, saw 25\\nSkipping line 71968: expected 18 fields, saw 20\\nSkipping line 82992: expected 18 fields, saw 24\\n'\n",
      "/opt/anaconda3/lib/python3.7/site-packages/IPython/core/interactiveshell.py:3063: DtypeWarning: Columns (0,4) have mixed types.Specify dtype option on import or set low_memory=False.\n",
      "  interactivity=interactivity, compiler=compiler, result=result)\n"
     ]
    }
   ],
   "source": [
    "df = pd.read_csv(\"trainListings.csv\" , error_bad_lines = False)\n",
    "#location = pd.read_csv(\"locations.csv\")\n",
    "matches = pd.read_csv(\"trainMatchedListings.csv\")\n",
    "#test = pd.read_csv('testListings.csv')\n",
    "#types = pd.read_csv(\"types.csv\")"
   ]
  },
  {
   "cell_type": "code",
   "execution_count": 4,
   "metadata": {},
   "outputs": [],
   "source": [
    "# Fix Matches df\n",
    "matches.reset_index(inplace=True)\n",
    "matches = matches.rename(columns={'index': 'id1', 'id1': 'id2' , 'id2':'target'})"
   ]
  },
  {
   "cell_type": "markdown",
   "metadata": {},
   "source": [
    "## See missing values"
   ]
  },
  {
   "cell_type": "code",
   "execution_count": 5,
   "metadata": {},
   "outputs": [
    {
     "data": {
      "text/plain": [
       "id             0.000000\n",
       "sourceId       0.000024\n",
       "locationId     0.000084\n",
       "typeId         0.000024\n",
       "price          0.074367\n",
       "rooms          0.897806\n",
       "bedrooms       0.154646\n",
       "bathrooms      0.178487\n",
       "totalArea      0.317166\n",
       "livingArea     0.627673\n",
       "plotArea       0.467127\n",
       "terraceArea    0.793770\n",
       "title          0.051850\n",
       "description    0.034474\n",
       "features       0.490319\n",
       "latitude       0.808292\n",
       "longitude      0.811061\n",
       "thumbnails     0.000048\n",
       "dtype: float64"
      ]
     },
     "execution_count": 5,
     "metadata": {},
     "output_type": "execute_result"
    }
   ],
   "source": [
    "df.isnull().sum()/len(df)"
   ]
  },
  {
   "cell_type": "markdown",
   "metadata": {},
   "source": [
    "There are a few variables that have a large percentage of missing values. We can drop them from our analysis. We'll also drop thumbnails but we may need them back if we do some neural network stuff. \n",
    "\n",
    "Variables to drop: Rooms, Living Area , PlotArea, Terrace Area, Features, Latitude/Longitude, Features"
   ]
  },
  {
   "cell_type": "code",
   "execution_count": 6,
   "metadata": {},
   "outputs": [],
   "source": [
    "df.drop(['rooms', 'livingArea' , 'plotArea' , 'terraceArea' , 'latitude' , 'longitude', 'features' , 'thumbnails'], axis=1, inplace=True)"
   ]
  },
  {
   "cell_type": "code",
   "execution_count": 7,
   "metadata": {},
   "outputs": [
    {
     "data": {
      "text/plain": [
       "(83048, 10)"
      ]
     },
     "execution_count": 7,
     "metadata": {},
     "output_type": "execute_result"
    }
   ],
   "source": [
    "df.shape"
   ]
  },
  {
   "cell_type": "markdown",
   "metadata": {},
   "source": [
    "## Box Plots"
   ]
  },
  {
   "cell_type": "code",
   "execution_count": 8,
   "metadata": {},
   "outputs": [
    {
     "data": {
      "text/plain": [
       "Index(['id', 'sourceId', 'locationId', 'typeId', 'price', 'bedrooms', 'bathrooms', 'totalArea', 'title', 'description'], dtype='object')"
      ]
     },
     "execution_count": 8,
     "metadata": {},
     "output_type": "execute_result"
    }
   ],
   "source": [
    "df.columns"
   ]
  },
  {
   "cell_type": "code",
   "execution_count": 9,
   "metadata": {},
   "outputs": [
    {
     "data": {
      "image/png": "[encoded data removed]",
      "text/plain": [
       "<Figure size 432x288 with 1 Axes>"
      ]
     },
     "metadata": {
      "needs_background": "light"
     },
     "output_type": "display_data"
    }
   ],
   "source": [
    "df.boxplot(column=['bedrooms' , 'bathrooms'] , return_type='axes');\n",
    "# Note we have one massive outlier with 6.7 millions bedrooms..let's go ahead and drop this."
   ]
  },
  {
   "cell_type": "code",
   "execution_count": 10,
   "metadata": {},
   "outputs": [],
   "source": [
    "df[df['totalArea'] > 1000000]\n",
    "df.drop(74487,inplace=True)"
   ]
  },
  {
   "cell_type": "code",
   "execution_count": 11,
   "metadata": {},
   "outputs": [
    {
     "data": {
      "image/png": "[encoded data removed]",
      "text/plain": [
       "<Figure size 432x288 with 1 Axes>"
      ]
     },
     "metadata": {
      "needs_background": "light"
     },
     "output_type": "display_data"
    }
   ],
   "source": [
    "df.boxplot(column=['totalArea'] , return_type='axes');\n",
    "# There are a few outliers toward the tail ends which are fine however the last two are significantly larger which may disrupt our results. Let's go ahead and drop them "
   ]
  },
  {
   "cell_type": "code",
   "execution_count": 12,
   "metadata": {},
   "outputs": [],
   "source": [
    "df[df['totalArea'] > 200000]\n",
    "df.drop([72677,75337],inplace=True)"
   ]
  },
  {
   "cell_type": "markdown",
   "metadata": {},
   "source": [
    "We will look at the distrubutions and boxplots of price later on in the analysis"
   ]
  },
  {
   "cell_type": "markdown",
   "metadata": {},
   "source": [
    "## Generate General Dataframe to build from. \n",
    "\n",
    "#### Idea here is that each row should have features regarding both listings because we have to train our model in such a way that it takes info on both listings and then tries to see if they are the same"
   ]
  },
  {
   "cell_type": "code",
   "execution_count": 13,
   "metadata": {},
   "outputs": [],
   "source": [
    "new = matches.merge(df,left_on='id1',right_on='id')"
   ]
  },
  {
   "cell_type": "code",
   "execution_count": 14,
   "metadata": {},
   "outputs": [],
   "source": [
    "new.drop('id',inplace=True , axis = 1)\n",
    "new.columns = ['id1', 'id2', 'target', 'sourceid_id1', 'locationid_id1', 'type_id1','price_id1','bedrooms_id1','bathrooms_id1','totalArea_id1','title_id1','description_id1']"
   ]
  },
  {
   "cell_type": "code",
   "execution_count": 15,
   "metadata": {},
   "outputs": [],
   "source": [
    "updated = new.merge(df, left_on='id2' , right_on ='id')"
   ]
  },
  {
   "cell_type": "code",
   "execution_count": 16,
   "metadata": {},
   "outputs": [],
   "source": [
    "updated.drop('id',inplace=True , axis = 1)\n",
    "updated.columns = ['id1', 'id2', 'target', 'sourceid_id1', 'locationid_id1', 'type_id1','price_id1','bedrooms_id1','bathrooms_id1','totalArea_id1','title_id1','description_id1',\n",
    "                    'sourceid_id2', 'locationid_id2', 'type_id2','price_id2','bedrooms_id2','bathrooms_id2','totalArea_id2','title_id2','description_id2']"
   ]
  },
  {
   "cell_type": "code",
   "execution_count": 17,
   "metadata": {},
   "outputs": [],
   "source": [
    "df = updated.copy()"
   ]
  },
  {
   "cell_type": "code",
   "execution_count": 18,
   "metadata": {},
   "outputs": [],
   "source": [
    "df[['price_id1', 'price_id2']] = df[['price_id1', 'price_id2']].astype(float)"
   ]
  },
  {
   "cell_type": "code",
   "execution_count": 19,
   "metadata": {},
   "outputs": [
    {
     "data": {
      "text/html": [
       "<div>\n",
       "<style scoped>\n",
       "    .dataframe tbody tr th:only-of-type {\n",
       "        vertical-align: middle;\n",
       "    }\n",
       "\n",
       "    .dataframe tbody tr th {\n",
       "        vertical-align: top;\n",
       "    }\n",
       "\n",
       "    .dataframe thead th {\n",
       "        text-align: right;\n",
       "    }\n",
       "</style>\n",
       "<table border=\"1\" class=\"dataframe\">\n",
       "  <thead>\n",
       "    <tr style=\"text-align: right;\">\n",
       "      <th></th>\n",
       "      <th>id1</th>\n",
       "      <th>id2</th>\n",
       "      <th>target</th>\n",
       "      <th>sourceid_id1</th>\n",
       "      <th>locationid_id1</th>\n",
       "      <th>type_id1</th>\n",
       "      <th>price_id1</th>\n",
       "      <th>bedrooms_id1</th>\n",
       "      <th>bathrooms_id1</th>\n",
       "      <th>totalArea_id1</th>\n",
       "      <th>title_id1</th>\n",
       "      <th>description_id1</th>\n",
       "      <th>sourceid_id2</th>\n",
       "      <th>locationid_id2</th>\n",
       "      <th>type_id2</th>\n",
       "      <th>price_id2</th>\n",
       "      <th>bedrooms_id2</th>\n",
       "      <th>bathrooms_id2</th>\n",
       "      <th>totalArea_id2</th>\n",
       "      <th>title_id2</th>\n",
       "      <th>description_id2</th>\n",
       "    </tr>\n",
       "  </thead>\n",
       "  <tbody>\n",
       "    <tr>\n",
       "      <th>0</th>\n",
       "      <td>1</td>\n",
       "      <td>2</td>\n",
       "      <td>1</td>\n",
       "      <td>1.0</td>\n",
       "      <td>84.0</td>\n",
       "      <td>4.0</td>\n",
       "      <td>26500000.0</td>\n",
       "      <td>10.0</td>\n",
       "      <td>16.0</td>\n",
       "      <td>4000.0</td>\n",
       "      <td>Exquisite manor house amidst the Tramontana va...</td>\n",
       "      <td>Strength, tradition and serenity around 10,000...</td>\n",
       "      <td>9.0</td>\n",
       "      <td>84.0</td>\n",
       "      <td>4.0</td>\n",
       "      <td>26500000.0</td>\n",
       "      <td>10.0</td>\n",
       "      <td>12.0</td>\n",
       "      <td>3000.0</td>\n",
       "      <td>Finca in Puigpunyent (Objektnummer KSV00142)</td>\n",
       "      <td>Magnificent Mallorquinian Mansion of XVII cent...</td>\n",
       "    </tr>\n",
       "    <tr>\n",
       "      <th>1</th>\n",
       "      <td>3</td>\n",
       "      <td>2</td>\n",
       "      <td>1</td>\n",
       "      <td>14.0</td>\n",
       "      <td>84.0</td>\n",
       "      <td>12.0</td>\n",
       "      <td>26500000.0</td>\n",
       "      <td>10.0</td>\n",
       "      <td>12.0</td>\n",
       "      <td>3000.0</td>\n",
       "      <td>Magnificent Mallorquinian Mansion of XVII cent...</td>\n",
       "      <td>Magnificent Mallorquinian Mansion of XVII cent...</td>\n",
       "      <td>9.0</td>\n",
       "      <td>84.0</td>\n",
       "      <td>4.0</td>\n",
       "      <td>26500000.0</td>\n",
       "      <td>10.0</td>\n",
       "      <td>12.0</td>\n",
       "      <td>3000.0</td>\n",
       "      <td>Finca in Puigpunyent (Objektnummer KSV00142)</td>\n",
       "      <td>Magnificent Mallorquinian Mansion of XVII cent...</td>\n",
       "    </tr>\n",
       "    <tr>\n",
       "      <th>2</th>\n",
       "      <td>4</td>\n",
       "      <td>2</td>\n",
       "      <td>1</td>\n",
       "      <td>37.0</td>\n",
       "      <td>84.0</td>\n",
       "      <td>10.0</td>\n",
       "      <td>26500000.0</td>\n",
       "      <td>10.0</td>\n",
       "      <td>12.0</td>\n",
       "      <td>3000.0</td>\n",
       "      <td>Magnificent Mallorquinian Mansion of XVII cent...</td>\n",
       "      <td>Magnificent Mallorquinian Mansion of XVII cent...</td>\n",
       "      <td>9.0</td>\n",
       "      <td>84.0</td>\n",
       "      <td>4.0</td>\n",
       "      <td>26500000.0</td>\n",
       "      <td>10.0</td>\n",
       "      <td>12.0</td>\n",
       "      <td>3000.0</td>\n",
       "      <td>Finca in Puigpunyent (Objektnummer KSV00142)</td>\n",
       "      <td>Magnificent Mallorquinian Mansion of XVII cent...</td>\n",
       "    </tr>\n",
       "    <tr>\n",
       "      <th>3</th>\n",
       "      <td>5</td>\n",
       "      <td>2</td>\n",
       "      <td>1</td>\n",
       "      <td>85.0</td>\n",
       "      <td>84.0</td>\n",
       "      <td>10.0</td>\n",
       "      <td>26500000.0</td>\n",
       "      <td>10.0</td>\n",
       "      <td>12.0</td>\n",
       "      <td>NaN</td>\n",
       "      <td>Mallorquinian Mansion of XVII century on the m...</td>\n",
       "      <td>Magnificent Mallorquinian Mansion of XVII cent...</td>\n",
       "      <td>9.0</td>\n",
       "      <td>84.0</td>\n",
       "      <td>4.0</td>\n",
       "      <td>26500000.0</td>\n",
       "      <td>10.0</td>\n",
       "      <td>12.0</td>\n",
       "      <td>3000.0</td>\n",
       "      <td>Finca in Puigpunyent (Objektnummer KSV00142)</td>\n",
       "      <td>Magnificent Mallorquinian Mansion of XVII cent...</td>\n",
       "    </tr>\n",
       "    <tr>\n",
       "      <th>4</th>\n",
       "      <td>6</td>\n",
       "      <td>2</td>\n",
       "      <td>1</td>\n",
       "      <td>8.0</td>\n",
       "      <td>84.0</td>\n",
       "      <td>5.0</td>\n",
       "      <td>26500000.0</td>\n",
       "      <td>10.0</td>\n",
       "      <td>16.0</td>\n",
       "      <td>4000.0</td>\n",
       "      <td>Unique Majorcan Rural Estate in Puigpunyent</td>\n",
       "      <td>Description\\n\\t\\t\\t\\tThis magnificent, totally...</td>\n",
       "      <td>9.0</td>\n",
       "      <td>84.0</td>\n",
       "      <td>4.0</td>\n",
       "      <td>26500000.0</td>\n",
       "      <td>10.0</td>\n",
       "      <td>12.0</td>\n",
       "      <td>3000.0</td>\n",
       "      <td>Finca in Puigpunyent (Objektnummer KSV00142)</td>\n",
       "      <td>Magnificent Mallorquinian Mansion of XVII cent...</td>\n",
       "    </tr>\n",
       "  </tbody>\n",
       "</table>\n",
       "</div>"
      ],
      "text/plain": [
       "  id1 id2  target  sourceid_id1  locationid_id1  type_id1   price_id1  bedrooms_id1  bathrooms_id1  totalArea_id1                                          title_id1                                    description_id1  sourceid_id2  locationid_id2  type_id2   price_id2  bedrooms_id2  bathrooms_id2  totalArea_id2                                     title_id2                                    description_id2\n",
       "0   1   2       1           1.0            84.0       4.0  26500000.0          10.0           16.0         4000.0  Exquisite manor house amidst the Tramontana va...  Strength, tradition and serenity around 10,000...           9.0            84.0       4.0  26500000.0          10.0           12.0         3000.0  Finca in Puigpunyent (Objektnummer KSV00142)  Magnificent Mallorquinian Mansion of XVII cent...\n",
       "1   3   2       1          14.0            84.0      12.0  26500000.0          10.0           12.0         3000.0  Magnificent Mallorquinian Mansion of XVII cent...  Magnificent Mallorquinian Mansion of XVII cent...           9.0            84.0       4.0  26500000.0          10.0           12.0         3000.0  Finca in Puigpunyent (Objektnummer KSV00142)  Magnificent Mallorquinian Mansion of XVII cent...\n",
       "2   4   2       1          37.0            84.0      10.0  26500000.0          10.0           12.0         3000.0  Magnificent Mallorquinian Mansion of XVII cent...  Magnificent Mallorquinian Mansion of XVII cent...           9.0            84.0       4.0  26500000.0          10.0           12.0         3000.0  Finca in Puigpunyent (Objektnummer KSV00142)  Magnificent Mallorquinian Mansion of XVII cent...\n",
       "3   5   2       1          85.0            84.0      10.0  26500000.0          10.0           12.0            NaN  Mallorquinian Mansion of XVII century on the m...  Magnificent Mallorquinian Mansion of XVII cent...           9.0            84.0       4.0  26500000.0          10.0           12.0         3000.0  Finca in Puigpunyent (Objektnummer KSV00142)  Magnificent Mallorquinian Mansion of XVII cent...\n",
       "4   6   2       1           8.0            84.0       5.0  26500000.0          10.0           16.0         4000.0        Unique Majorcan Rural Estate in Puigpunyent  Description\\n\\t\\t\\t\\tThis magnificent, totally...           9.0            84.0       4.0  26500000.0          10.0           12.0         3000.0  Finca in Puigpunyent (Objektnummer KSV00142)  Magnificent Mallorquinian Mansion of XVII cent..."
      ]
     },
     "execution_count": 19,
     "metadata": {},
     "output_type": "execute_result"
    }
   ],
   "source": [
    "df.head()"
   ]
  },
  {
   "cell_type": "code",
   "execution_count": 20,
   "metadata": {},
   "outputs": [
    {
     "data": {
      "text/plain": [
       "Index(['id1', 'id2', 'target', 'sourceid_id1', 'locationid_id1', 'type_id1', 'price_id1', 'bedrooms_id1', 'bathrooms_id1', 'totalArea_id1', 'title_id1', 'description_id1', 'sourceid_id2', 'locationid_id2', 'type_id2', 'price_id2', 'bedrooms_id2', 'bathrooms_id2', 'totalArea_id2', 'title_id2', 'description_id2'], dtype='object')"
      ]
     },
     "execution_count": 20,
     "metadata": {},
     "output_type": "execute_result"
    }
   ],
   "source": [
    "df.columns"
   ]
  },
  {
   "cell_type": "markdown",
   "metadata": {},
   "source": [
    "#### Create dummy variables for different types of properties -> Apartments, Houses, Plots, Investment & Other (Have to do for both ID1 and ID2)"
   ]
  },
  {
   "cell_type": "code",
   "execution_count": 21,
   "metadata": {},
   "outputs": [],
   "source": [
    "apartment_dummy_1 = []\n",
    "for i in df['type_id1']:\n",
    "    if i == 1 or i == 2 or i == 3 or i == 7:\n",
    "        apartment_dummy_1.append(1)\n",
    "    else:\n",
    "        apartment_dummy_1.append(0)\n",
    "        \n",
    "house_dummy_1 = []\n",
    "for i in df['type_id1']:\n",
    "    if i == 4 or i == 5 or i == 6 or i == 9 or i == 10 or i == 12:\n",
    "        house_dummy_1.append(1)\n",
    "    else:\n",
    "        house_dummy_1.append(0)\n",
    "        \n",
    "plot_dummy_1 = []\n",
    "for i in df['type_id1']:\n",
    "    if i == 8:\n",
    "        plot_dummy_1.append(1)\n",
    "    else:\n",
    "        plot_dummy_1.append(0)\n",
    "        \n",
    "investment_dummy_1 = []\n",
    "for i in df['type_id1']:\n",
    "    if i == 16 or i == 17 or 1 == 18:\n",
    "        investment_dummy_1.append(1)\n",
    "    else:\n",
    "        investment_dummy_1.append(0)\n",
    "\n",
    "other_dummy_1 = []\n",
    "for i in df['type_id1']:\n",
    "    if i == 15:\n",
    "        other_dummy_1.append(1)\n",
    "    else:\n",
    "        other_dummy_1.append(0)\n",
    "        \n",
    "# Add to our dataframe \n",
    "df['apartment_dummy_1'] = apartment_dummy_1\n",
    "df['house_dummy_1'] = house_dummy_1\n",
    "df['plot_dummy_1'] = plot_dummy_1\n",
    "df['investment_dummy_1'] = investment_dummy_1\n",
    "df['other_dummy_1'] = other_dummy_1"
   ]
  },
  {
   "cell_type": "code",
   "execution_count": 22,
   "metadata": {},
   "outputs": [],
   "source": [
    "apartment_dummy_2 = []\n",
    "for i in df['type_id2']:\n",
    "    if i == 1 or i == 2 or i == 3 or i == 7:\n",
    "        apartment_dummy_2.append(1)\n",
    "    else:\n",
    "        apartment_dummy_2.append(0)\n",
    "        \n",
    "house_dummy_2 = []\n",
    "for i in df['type_id2']:\n",
    "    if i == 4 or i == 5 or i == 6 or i == 9 or i == 10 or i == 12:\n",
    "        house_dummy_2.append(1)\n",
    "    else:\n",
    "        house_dummy_2.append(0)\n",
    "        \n",
    "plot_dummy_2 = []\n",
    "for i in df['type_id2']:\n",
    "    if i == 8:\n",
    "        plot_dummy_2.append(1)\n",
    "    else:\n",
    "        plot_dummy_2.append(0)\n",
    "        \n",
    "investment_dummy_2 = []\n",
    "for i in df['type_id2']:\n",
    "    if i == 16 or i == 17 or 1 == 18:\n",
    "        investment_dummy_2.append(1)\n",
    "    else:\n",
    "        investment_dummy_2.append(0)\n",
    "\n",
    "other_dummy_2 = []\n",
    "for i in df['type_id2']:\n",
    "    if i == 15:\n",
    "        other_dummy_2.append(1)\n",
    "    else:\n",
    "        other_dummy_2.append(0)\n",
    "        \n",
    "# Add to our dataframe \n",
    "df['apartment_dummy_2'] = apartment_dummy_2\n",
    "df['house_dummy_2'] = house_dummy_2\n",
    "df['plot_dummy_2'] = plot_dummy_2\n",
    "df['investment_dummy_2'] = investment_dummy_2\n",
    "df['other_dummy_2'] = other_dummy_2"
   ]
  },
  {
   "cell_type": "markdown",
   "metadata": {},
   "source": [
    "Dropping more columns as we won't need these ones\n",
    "* id1 & id2 -> we've merged our dataframe now there is no use for them\n",
    "* Sourceid_id1 & Sourceid_id2 are just the agency ID for each posting so they don't add any value\n",
    "* Type_id1 & Type_id2 told us what type of property it was & now that we've one hot encoded them we can drop this column\n",
    "* Locationid_id1 & Locationid_id2"
   ]
  },
  {
   "cell_type": "code",
   "execution_count": 23,
   "metadata": {},
   "outputs": [
    {
     "data": {
      "text/plain": [
       "Index(['id1', 'id2', 'target', 'sourceid_id1', 'locationid_id1', 'type_id1', 'price_id1', 'bedrooms_id1', 'bathrooms_id1', 'totalArea_id1', 'title_id1', 'description_id1', 'sourceid_id2', 'locationid_id2', 'type_id2', 'price_id2', 'bedrooms_id2', 'bathrooms_id2', 'totalArea_id2', 'title_id2', 'description_id2', 'apartment_dummy_1', 'house_dummy_1', 'plot_dummy_1', 'investment_dummy_1', 'other_dummy_1', 'apartment_dummy_2', 'house_dummy_2', 'plot_dummy_2', 'investment_dummy_2', 'other_dummy_2'], dtype='object')"
      ]
     },
     "execution_count": 23,
     "metadata": {},
     "output_type": "execute_result"
    }
   ],
   "source": [
    "df.columns"
   ]
  },
  {
   "cell_type": "code",
   "execution_count": 24,
   "metadata": {},
   "outputs": [],
   "source": [
    "df.drop(['id1' , 'id2' , 'sourceid_id1' , 'sourceid_id2' , 'type_id1' , 'type_id2' , 'locationid_id1' , 'locationid_id2'] , axis=1 , inplace=True)"
   ]
  },
  {
   "cell_type": "code",
   "execution_count": 25,
   "metadata": {},
   "outputs": [
    {
     "data": {
      "text/plain": [
       "target                0.000000\n",
       "price_id1             0.132956\n",
       "bedrooms_id1          0.030750\n",
       "bathrooms_id1         0.058354\n",
       "totalArea_id1         0.251712\n",
       "title_id1             0.040496\n",
       "description_id1       0.042926\n",
       "price_id2             0.124206\n",
       "bedrooms_id2          0.031141\n",
       "bathrooms_id2         0.079075\n",
       "totalArea_id2         0.208011\n",
       "title_id2             0.035146\n",
       "description_id2       0.032806\n",
       "apartment_dummy_1     0.000000\n",
       "house_dummy_1         0.000000\n",
       "plot_dummy_1          0.000000\n",
       "investment_dummy_1    0.000000\n",
       "other_dummy_1         0.000000\n",
       "apartment_dummy_2     0.000000\n",
       "house_dummy_2         0.000000\n",
       "plot_dummy_2          0.000000\n",
       "investment_dummy_2    0.000000\n",
       "other_dummy_2         0.000000\n",
       "dtype: float64"
      ]
     },
     "execution_count": 25,
     "metadata": {},
     "output_type": "execute_result"
    }
   ],
   "source": [
    "df.isnull().sum()/len(df)"
   ]
  },
  {
   "cell_type": "markdown",
   "metadata": {},
   "source": [
    "Drop any rows with:\n",
    "* Mising Description and title \n",
    "* Missing bedrooms and bathrooms\n",
    "\n",
    "Reason is that there is only about 5% of missing values for these columns which isn't too severe "
   ]
  },
  {
   "cell_type": "code",
   "execution_count": 26,
   "metadata": {},
   "outputs": [
    {
     "data": {
      "text/plain": [
       "(964854, 23)"
      ]
     },
     "execution_count": 26,
     "metadata": {},
     "output_type": "execute_result"
    }
   ],
   "source": [
    "df.shape"
   ]
  },
  {
   "cell_type": "code",
   "execution_count": 27,
   "metadata": {},
   "outputs": [],
   "source": [
    "df.dropna(subset = ['bedrooms_id1', 'bedrooms_id2' , 'bathrooms_id1' , 'bathrooms_id2' , 'title_id1' , 'title_id2' , 'description_id1' , 'description_id2'] , inplace=True)"
   ]
  },
  {
   "cell_type": "code",
   "execution_count": 28,
   "metadata": {},
   "outputs": [
    {
     "data": {
      "text/plain": [
       "(718129, 23)"
      ]
     },
     "execution_count": 28,
     "metadata": {},
     "output_type": "execute_result"
    }
   ],
   "source": [
    "df.shape"
   ]
  },
  {
   "cell_type": "code",
   "execution_count": 29,
   "metadata": {},
   "outputs": [],
   "source": [
    "df.reset_index(inplace=True)\n",
    "df.drop('index',axis=1,inplace=True)"
   ]
  },
  {
   "cell_type": "code",
   "execution_count": 30,
   "metadata": {},
   "outputs": [
    {
     "data": {
      "text/plain": [
       "Index(['target', 'price_id1', 'bedrooms_id1', 'bathrooms_id1', 'totalArea_id1', 'title_id1', 'description_id1', 'price_id2', 'bedrooms_id2', 'bathrooms_id2', 'totalArea_id2', 'title_id2', 'description_id2', 'apartment_dummy_1', 'house_dummy_1', 'plot_dummy_1', 'investment_dummy_1', 'other_dummy_1', 'apartment_dummy_2', 'house_dummy_2', 'plot_dummy_2', 'investment_dummy_2', 'other_dummy_2'], dtype='object')"
      ]
     },
     "execution_count": 30,
     "metadata": {},
     "output_type": "execute_result"
    }
   ],
   "source": [
    "df.columns"
   ]
  },
  {
   "cell_type": "markdown",
   "metadata": {},
   "source": [
    "#### More Box Plots"
   ]
  },
  {
   "cell_type": "code",
   "execution_count": 31,
   "metadata": {},
   "outputs": [
    {
     "data": {
      "image/png": "[encoded data removed]",
      "text/plain": [
       "<Figure size 432x288 with 1 Axes>"
      ]
     },
     "metadata": {
      "needs_background": "light"
     },
     "output_type": "display_data"
    }
   ],
   "source": [
    "df.boxplot(column=['price_id1','price_id2'], return_type='axes');\n",
    "# Lets drop that one large outlier"
   ]
  },
  {
   "cell_type": "code",
   "execution_count": 32,
   "metadata": {},
   "outputs": [],
   "source": [
    "#df[(df['price_id1'] > 50000000)]\n",
    "#df[(df['price_id2'] > 50000000)]\n",
    "df.drop([655684,655685],inplace=True)"
   ]
  },
  {
   "cell_type": "code",
   "execution_count": 33,
   "metadata": {},
   "outputs": [],
   "source": [
    "df.reset_index(inplace=True)\n",
    "df.drop('index',axis=1,inplace=True)"
   ]
  },
  {
   "cell_type": "code",
   "execution_count": 34,
   "metadata": {},
   "outputs": [
    {
     "data": {
      "image/png": "[encoded data removed]",
      "text/plain": [
       "<Figure size 432x288 with 1 Axes>"
      ]
     },
     "metadata": {
      "needs_background": "light"
     },
     "output_type": "display_data"
    }
   ],
   "source": [
    "df.boxplot(column=['totalArea_id1','totalArea_id2'], return_type='axes');"
   ]
  },
  {
   "cell_type": "code",
   "execution_count": 35,
   "metadata": {},
   "outputs": [
    {
     "data": {
      "image/png": "[encoded data removed]",
      "text/plain": [
       "<Figure size 432x288 with 1 Axes>"
      ]
     },
     "metadata": {
      "needs_background": "light"
     },
     "output_type": "display_data"
    }
   ],
   "source": [
    "df.boxplot(column=['bedrooms_id1','bedrooms_id2' , 'bathrooms_id1' , 'bathrooms_id2'], return_type='axes');"
   ]
  },
  {
   "cell_type": "markdown",
   "metadata": {},
   "source": [
    "Our boxplots for the total area and bathrooms/bedrooms are much more cleaner now and nicely distributed when we took away the extreme outliers. Next we will impute the missing values using the MICE method."
   ]
  },
  {
   "cell_type": "markdown",
   "metadata": {},
   "source": [
    "## Here is where we will split our dataframe into a Train/Test. \n",
    "\n",
    "#### We are imputing our missing values so we can't information from our training set impacting the missing values in the test set"
   ]
  },
  {
   "cell_type": "code",
   "execution_count": 95,
   "metadata": {},
   "outputs": [],
   "source": [
    "# Split will be 70% train & 30% test. Our target variable is in our dataframe so no need to take it out now, we can take it out when actually implement our model.\n",
    "# len(df) = 718127\n",
    "train = df[:502689]\n",
    "test = df[502689:]\n",
    "test.reset_index(inplace=True , drop=True)"
   ]
  },
  {
   "cell_type": "code",
   "execution_count": 53,
   "metadata": {},
   "outputs": [
    {
     "name": "stdout",
     "output_type": "stream",
     "text": [
      "(215438, 23) (502689, 23)\n"
     ]
    }
   ],
   "source": [
    "print(test.shape , train.shape)"
   ]
  },
  {
   "cell_type": "code",
   "execution_count": 96,
   "metadata": {},
   "outputs": [
    {
     "data": {
      "text/html": [
       "<div>\n",
       "<style scoped>\n",
       "    .dataframe tbody tr th:only-of-type {\n",
       "        vertical-align: middle;\n",
       "    }\n",
       "\n",
       "    .dataframe tbody tr th {\n",
       "        vertical-align: top;\n",
       "    }\n",
       "\n",
       "    .dataframe thead th {\n",
       "        text-align: right;\n",
       "    }\n",
       "</style>\n",
       "<table border=\"1\" class=\"dataframe\">\n",
       "  <thead>\n",
       "    <tr style=\"text-align: right;\">\n",
       "      <th></th>\n",
       "      <th>target</th>\n",
       "      <th>price_id1</th>\n",
       "      <th>bedrooms_id1</th>\n",
       "      <th>bathrooms_id1</th>\n",
       "      <th>totalArea_id1</th>\n",
       "      <th>title_id1</th>\n",
       "      <th>description_id1</th>\n",
       "      <th>price_id2</th>\n",
       "      <th>bedrooms_id2</th>\n",
       "      <th>bathrooms_id2</th>\n",
       "      <th>totalArea_id2</th>\n",
       "      <th>title_id2</th>\n",
       "      <th>description_id2</th>\n",
       "      <th>apartment_dummy_1</th>\n",
       "      <th>house_dummy_1</th>\n",
       "      <th>plot_dummy_1</th>\n",
       "      <th>investment_dummy_1</th>\n",
       "      <th>other_dummy_1</th>\n",
       "      <th>apartment_dummy_2</th>\n",
       "      <th>house_dummy_2</th>\n",
       "      <th>plot_dummy_2</th>\n",
       "      <th>investment_dummy_2</th>\n",
       "      <th>other_dummy_2</th>\n",
       "    </tr>\n",
       "  </thead>\n",
       "  <tbody>\n",
       "    <tr>\n",
       "      <th>0</th>\n",
       "      <td>0</td>\n",
       "      <td>223600.0</td>\n",
       "      <td>3.0</td>\n",
       "      <td>2.0</td>\n",
       "      <td>84.0</td>\n",
       "      <td>Apartment for sale in Puerto de Pollença, Poll...</td>\n",
       "      <td>Fantastic recently build apartments within wal...</td>\n",
       "      <td>250000.0</td>\n",
       "      <td>3.0</td>\n",
       "      <td>2.0</td>\n",
       "      <td>NaN</td>\n",
       "      <td>Apartment for sale in Puerto de Pollensa</td>\n",
       "      <td>Great first floor apartment with private terra...</td>\n",
       "      <td>1</td>\n",
       "      <td>0</td>\n",
       "      <td>0</td>\n",
       "      <td>0</td>\n",
       "      <td>0</td>\n",
       "      <td>1</td>\n",
       "      <td>0</td>\n",
       "      <td>0</td>\n",
       "      <td>0</td>\n",
       "      <td>0</td>\n",
       "    </tr>\n",
       "    <tr>\n",
       "      <th>1</th>\n",
       "      <td>0</td>\n",
       "      <td>213600.0</td>\n",
       "      <td>3.0</td>\n",
       "      <td>2.0</td>\n",
       "      <td>NaN</td>\n",
       "      <td>Apartment for sale in Puerto Pollença</td>\n",
       "      <td>Small block with only three apartments, just f...</td>\n",
       "      <td>250000.0</td>\n",
       "      <td>3.0</td>\n",
       "      <td>2.0</td>\n",
       "      <td>NaN</td>\n",
       "      <td>Apartment for sale in Puerto de Pollensa</td>\n",
       "      <td>Great first floor apartment with private terra...</td>\n",
       "      <td>1</td>\n",
       "      <td>0</td>\n",
       "      <td>0</td>\n",
       "      <td>0</td>\n",
       "      <td>0</td>\n",
       "      <td>1</td>\n",
       "      <td>0</td>\n",
       "      <td>0</td>\n",
       "      <td>0</td>\n",
       "      <td>0</td>\n",
       "    </tr>\n",
       "    <tr>\n",
       "      <th>2</th>\n",
       "      <td>0</td>\n",
       "      <td>240000.0</td>\n",
       "      <td>3.0</td>\n",
       "      <td>2.0</td>\n",
       "      <td>108.0</td>\n",
       "      <td>Apartment for sale in Puerto de Pollença, Poll...</td>\n",
       "      <td>DOWN IN PRICE FROM 315.000 EUROS TO 240.000 EU...</td>\n",
       "      <td>250000.0</td>\n",
       "      <td>3.0</td>\n",
       "      <td>2.0</td>\n",
       "      <td>NaN</td>\n",
       "      <td>Apartment for sale in Puerto de Pollensa</td>\n",
       "      <td>Great first floor apartment with private terra...</td>\n",
       "      <td>1</td>\n",
       "      <td>0</td>\n",
       "      <td>0</td>\n",
       "      <td>0</td>\n",
       "      <td>0</td>\n",
       "      <td>1</td>\n",
       "      <td>0</td>\n",
       "      <td>0</td>\n",
       "      <td>0</td>\n",
       "      <td>0</td>\n",
       "    </tr>\n",
       "    <tr>\n",
       "      <th>3</th>\n",
       "      <td>0</td>\n",
       "      <td>240000.0</td>\n",
       "      <td>3.0</td>\n",
       "      <td>2.0</td>\n",
       "      <td>93.0</td>\n",
       "      <td>Ground floor apartment in Port de Pollenca (Ob...</td>\n",
       "      <td>Modern apartment in Puerto Pollensa located 30...</td>\n",
       "      <td>250000.0</td>\n",
       "      <td>3.0</td>\n",
       "      <td>2.0</td>\n",
       "      <td>NaN</td>\n",
       "      <td>Apartment for sale in Puerto de Pollensa</td>\n",
       "      <td>Great first floor apartment with private terra...</td>\n",
       "      <td>1</td>\n",
       "      <td>0</td>\n",
       "      <td>0</td>\n",
       "      <td>0</td>\n",
       "      <td>0</td>\n",
       "      <td>1</td>\n",
       "      <td>0</td>\n",
       "      <td>0</td>\n",
       "      <td>0</td>\n",
       "      <td>0</td>\n",
       "    </tr>\n",
       "    <tr>\n",
       "      <th>4</th>\n",
       "      <td>0</td>\n",
       "      <td>240000.0</td>\n",
       "      <td>3.0</td>\n",
       "      <td>2.0</td>\n",
       "      <td>NaN</td>\n",
       "      <td>Modern apartment in Puerto Pollensa with pool ...</td>\n",
       "      <td>Modern apartment in Puerto Pollensa located 30...</td>\n",
       "      <td>250000.0</td>\n",
       "      <td>3.0</td>\n",
       "      <td>2.0</td>\n",
       "      <td>NaN</td>\n",
       "      <td>Apartment for sale in Puerto de Pollensa</td>\n",
       "      <td>Great first floor apartment with private terra...</td>\n",
       "      <td>1</td>\n",
       "      <td>0</td>\n",
       "      <td>0</td>\n",
       "      <td>0</td>\n",
       "      <td>0</td>\n",
       "      <td>1</td>\n",
       "      <td>0</td>\n",
       "      <td>0</td>\n",
       "      <td>0</td>\n",
       "      <td>0</td>\n",
       "    </tr>\n",
       "    <tr>\n",
       "      <th>...</th>\n",
       "      <td>...</td>\n",
       "      <td>...</td>\n",
       "      <td>...</td>\n",
       "      <td>...</td>\n",
       "      <td>...</td>\n",
       "      <td>...</td>\n",
       "      <td>...</td>\n",
       "      <td>...</td>\n",
       "      <td>...</td>\n",
       "      <td>...</td>\n",
       "      <td>...</td>\n",
       "      <td>...</td>\n",
       "      <td>...</td>\n",
       "      <td>...</td>\n",
       "      <td>...</td>\n",
       "      <td>...</td>\n",
       "      <td>...</td>\n",
       "      <td>...</td>\n",
       "      <td>...</td>\n",
       "      <td>...</td>\n",
       "      <td>...</td>\n",
       "      <td>...</td>\n",
       "      <td>...</td>\n",
       "    </tr>\n",
       "    <tr>\n",
       "      <th>215433</th>\n",
       "      <td>0</td>\n",
       "      <td>1550000.0</td>\n",
       "      <td>3.0</td>\n",
       "      <td>4.0</td>\n",
       "      <td>312.0</td>\n",
       "      <td>Marbella,                                     ...</td>\n",
       "      <td>Description\\n\\t\\t\\t\\t\\t\\t\\t\\t\\t\\tEn un pequeño...</td>\n",
       "      <td>1450000.0</td>\n",
       "      <td>3.0</td>\n",
       "      <td>4.0</td>\n",
       "      <td>205.0</td>\n",
       "      <td>Apartment - Penthouse</td>\n",
       "      <td>Fabuloso atico duplex con tres dormitorios ubi...</td>\n",
       "      <td>1</td>\n",
       "      <td>0</td>\n",
       "      <td>0</td>\n",
       "      <td>0</td>\n",
       "      <td>0</td>\n",
       "      <td>1</td>\n",
       "      <td>0</td>\n",
       "      <td>0</td>\n",
       "      <td>0</td>\n",
       "      <td>0</td>\n",
       "    </tr>\n",
       "    <tr>\n",
       "      <th>215434</th>\n",
       "      <td>0</td>\n",
       "      <td>713000.0</td>\n",
       "      <td>3.0</td>\n",
       "      <td>3.0</td>\n",
       "      <td>94.0</td>\n",
       "      <td>Apartment - Middle Floor</td>\n",
       "      <td>A rare opportunity to buy a brand new luxury a...</td>\n",
       "      <td>795000.0</td>\n",
       "      <td>3.0</td>\n",
       "      <td>3.0</td>\n",
       "      <td>NaN</td>\n",
       "      <td>3 Bedroom Apartment | Marbella, Costa Del Sol,...</td>\n",
       "      <td>PROPERTY DETAILS  A three bedroom ground floor...</td>\n",
       "      <td>1</td>\n",
       "      <td>0</td>\n",
       "      <td>0</td>\n",
       "      <td>0</td>\n",
       "      <td>0</td>\n",
       "      <td>1</td>\n",
       "      <td>0</td>\n",
       "      <td>0</td>\n",
       "      <td>0</td>\n",
       "      <td>0</td>\n",
       "    </tr>\n",
       "    <tr>\n",
       "      <th>215435</th>\n",
       "      <td>0</td>\n",
       "      <td>490000.0</td>\n",
       "      <td>3.0</td>\n",
       "      <td>2.0</td>\n",
       "      <td>NaN</td>\n",
       "      <td>Property Details\\nPenthouse in Virgen del Roci...</td>\n",
       "      <td>Penthouses have always been synonym of luxury ...</td>\n",
       "      <td>575000.0</td>\n",
       "      <td>3.0</td>\n",
       "      <td>2.0</td>\n",
       "      <td>144.0</td>\n",
       "      <td>Apartment - Middle Floor</td>\n",
       "      <td>Fantástico apartamento en la avenida principal...</td>\n",
       "      <td>1</td>\n",
       "      <td>0</td>\n",
       "      <td>0</td>\n",
       "      <td>0</td>\n",
       "      <td>0</td>\n",
       "      <td>1</td>\n",
       "      <td>0</td>\n",
       "      <td>0</td>\n",
       "      <td>0</td>\n",
       "      <td>0</td>\n",
       "    </tr>\n",
       "    <tr>\n",
       "      <th>215436</th>\n",
       "      <td>0</td>\n",
       "      <td>490000.0</td>\n",
       "      <td>2.0</td>\n",
       "      <td>2.0</td>\n",
       "      <td>75.0</td>\n",
       "      <td>Beachside apartment for sale in Playa Rocio, f...</td>\n",
       "      <td>Beachside third (top) floor apartment in Playa...</td>\n",
       "      <td>510000.0</td>\n",
       "      <td>2.0</td>\n",
       "      <td>2.0</td>\n",
       "      <td>85.0</td>\n",
       "      <td>Ground Floor Apartment for Sale in La Isla,  M...</td>\n",
       "      <td>Ground Floor Apartment for Sale in La Isla,  M...</td>\n",
       "      <td>1</td>\n",
       "      <td>0</td>\n",
       "      <td>0</td>\n",
       "      <td>0</td>\n",
       "      <td>0</td>\n",
       "      <td>1</td>\n",
       "      <td>0</td>\n",
       "      <td>0</td>\n",
       "      <td>0</td>\n",
       "      <td>0</td>\n",
       "    </tr>\n",
       "    <tr>\n",
       "      <th>215437</th>\n",
       "      <td>0</td>\n",
       "      <td>390000.0</td>\n",
       "      <td>4.0</td>\n",
       "      <td>2.0</td>\n",
       "      <td>213.0</td>\n",
       "      <td>Penthouse in Puig de Ros</td>\n",
       "      <td>This nicely designed and lightflooded penthous...</td>\n",
       "      <td>450000.0</td>\n",
       "      <td>3.0</td>\n",
       "      <td>2.0</td>\n",
       "      <td>310.0</td>\n",
       "      <td>Spectacular penthouse with 175m2 of terrace an...</td>\n",
       "      <td>The penthouse is set in a residential complex ...</td>\n",
       "      <td>1</td>\n",
       "      <td>0</td>\n",
       "      <td>0</td>\n",
       "      <td>0</td>\n",
       "      <td>0</td>\n",
       "      <td>1</td>\n",
       "      <td>0</td>\n",
       "      <td>0</td>\n",
       "      <td>0</td>\n",
       "      <td>0</td>\n",
       "    </tr>\n",
       "  </tbody>\n",
       "</table>\n",
       "<p>215438 rows × 23 columns</p>\n",
       "</div>"
      ],
      "text/plain": [
       "        target  price_id1  bedrooms_id1  bathrooms_id1  totalArea_id1                                          title_id1                                    description_id1  price_id2  bedrooms_id2  bathrooms_id2  totalArea_id2                                          title_id2                                    description_id2  apartment_dummy_1  house_dummy_1  plot_dummy_1  investment_dummy_1  other_dummy_1  apartment_dummy_2  house_dummy_2  plot_dummy_2  investment_dummy_2  other_dummy_2\n",
       "0            0   223600.0           3.0            2.0           84.0  Apartment for sale in Puerto de Pollença, Poll...  Fantastic recently build apartments within wal...   250000.0           3.0            2.0            NaN           Apartment for sale in Puerto de Pollensa  Great first floor apartment with private terra...                  1              0             0                   0              0                  1              0             0                   0              0\n",
       "1            0   213600.0           3.0            2.0            NaN              Apartment for sale in Puerto Pollença  Small block with only three apartments, just f...   250000.0           3.0            2.0            NaN           Apartment for sale in Puerto de Pollensa  Great first floor apartment with private terra...                  1              0             0                   0              0                  1              0             0                   0              0\n",
       "2            0   240000.0           3.0            2.0          108.0  Apartment for sale in Puerto de Pollença, Poll...  DOWN IN PRICE FROM 315.000 EUROS TO 240.000 EU...   250000.0           3.0            2.0            NaN           Apartment for sale in Puerto de Pollensa  Great first floor apartment with private terra...                  1              0             0                   0              0                  1              0             0                   0              0\n",
       "3            0   240000.0           3.0            2.0           93.0  Ground floor apartment in Port de Pollenca (Ob...  Modern apartment in Puerto Pollensa located 30...   250000.0           3.0            2.0            NaN           Apartment for sale in Puerto de Pollensa  Great first floor apartment with private terra...                  1              0             0                   0              0                  1              0             0                   0              0\n",
       "4            0   240000.0           3.0            2.0            NaN  Modern apartment in Puerto Pollensa with pool ...  Modern apartment in Puerto Pollensa located 30...   250000.0           3.0            2.0            NaN           Apartment for sale in Puerto de Pollensa  Great first floor apartment with private terra...                  1              0             0                   0              0                  1              0             0                   0              0\n",
       "...        ...        ...           ...            ...            ...                                                ...                                                ...        ...           ...            ...            ...                                                ...                                                ...                ...            ...           ...                 ...            ...                ...            ...           ...                 ...            ...\n",
       "215433       0  1550000.0           3.0            4.0          312.0  Marbella,                                     ...  Description\\n\\t\\t\\t\\t\\t\\t\\t\\t\\t\\tEn un pequeño...  1450000.0           3.0            4.0          205.0                              Apartment - Penthouse  Fabuloso atico duplex con tres dormitorios ubi...                  1              0             0                   0              0                  1              0             0                   0              0\n",
       "215434       0   713000.0           3.0            3.0           94.0                           Apartment - Middle Floor  A rare opportunity to buy a brand new luxury a...   795000.0           3.0            3.0            NaN  3 Bedroom Apartment | Marbella, Costa Del Sol,...  PROPERTY DETAILS  A three bedroom ground floor...                  1              0             0                   0              0                  1              0             0                   0              0\n",
       "215435       0   490000.0           3.0            2.0            NaN  Property Details\\nPenthouse in Virgen del Roci...  Penthouses have always been synonym of luxury ...   575000.0           3.0            2.0          144.0                           Apartment - Middle Floor  Fantástico apartamento en la avenida principal...                  1              0             0                   0              0                  1              0             0                   0              0\n",
       "215436       0   490000.0           2.0            2.0           75.0  Beachside apartment for sale in Playa Rocio, f...  Beachside third (top) floor apartment in Playa...   510000.0           2.0            2.0           85.0  Ground Floor Apartment for Sale in La Isla,  M...  Ground Floor Apartment for Sale in La Isla,  M...                  1              0             0                   0              0                  1              0             0                   0              0\n",
       "215437       0   390000.0           4.0            2.0          213.0                           Penthouse in Puig de Ros  This nicely designed and lightflooded penthous...   450000.0           3.0            2.0          310.0  Spectacular penthouse with 175m2 of terrace an...  The penthouse is set in a residential complex ...                  1              0             0                   0              0                  1              0             0                   0              0\n",
       "\n",
       "[215438 rows x 23 columns]"
      ]
     },
     "execution_count": 96,
     "metadata": {},
     "output_type": "execute_result"
    }
   ],
   "source": [
    "test"
   ]
  },
  {
   "cell_type": "markdown",
   "metadata": {},
   "source": [
    "## Using MICE to impute missing values"
   ]
  },
  {
   "cell_type": "markdown",
   "metadata": {},
   "source": [
    "Replacing missing values for Price and TotalArea strategy:\n",
    "* Utilize Multiple Imputation by Chained Equations\n",
    "* Multiple Imputation by Chained Equations (MICE) is an imputation method that works with the assumption that the missing data are Missing at Random (MAR)\n",
    "* Recall that for MAR, the nature of the missing data is related to the observed data but not the missing data\n",
    "* The MICE algorithm works by running multiple regression models and each missing value is modeled conditionally depending on the observed (non-missing) values"
   ]
  },
  {
   "cell_type": "markdown",
   "metadata": {},
   "source": [
    "##### Training"
   ]
  },
  {
   "cell_type": "code",
   "execution_count": 48,
   "metadata": {},
   "outputs": [],
   "source": [
    "values_train = train.drop(['target','title_id1', 'title_id2' , 'description_id2' , 'description_id1'], axis=1).values"
   ]
  },
  {
   "cell_type": "code",
   "execution_count": 40,
   "metadata": {},
   "outputs": [],
   "source": [
    "from fancyimpute import IterativeImputer as MICE"
   ]
  },
  {
   "cell_type": "code",
   "execution_count": 50,
   "metadata": {},
   "outputs": [
    {
     "name": "stderr",
     "output_type": "stream",
     "text": [
      "/opt/anaconda3/lib/python3.7/site-packages/sklearn/impute/_iterative.py:638: ConvergenceWarning: [IterativeImputer] Early stopping criterion not reached.\n",
      "  \" reached.\", ConvergenceWarning)\n"
     ]
    }
   ],
   "source": [
    "val = MICE().fit_transform(values_train)"
   ]
  },
  {
   "cell_type": "code",
   "execution_count": 51,
   "metadata": {},
   "outputs": [],
   "source": [
    "val = pd.DataFrame(val)"
   ]
  },
  {
   "cell_type": "code",
   "execution_count": 52,
   "metadata": {},
   "outputs": [],
   "source": [
    "val.rename(columns = {0:'price_id1', 1:'bedrooms_id1', 2:'bathrooms_id1', 3:'totalArea_id1' , 4:'price_id2', 5:'bedrooms_id2', 6:'bathrooms_id2', 7:'totalArea_id2',\n",
    "                     8:'apartment_dummy_1' , 9:'house_dummy_1' , 10:'plot_dummy_1' , 11:'investment_dummy_1' , 12:'other_dummy_1',\n",
    "                      13:'apartment_dummy_2' , 14:'house_dummy_2' , 15:'plot_dummy_2' , 16:'investment_dummy_2' , 17:'other_dummy_2'},inplace=True)"
   ]
  },
  {
   "cell_type": "code",
   "execution_count": 53,
   "metadata": {},
   "outputs": [],
   "source": [
    "val['target'] = train['target']\n",
    "val['title_id1'] = train['title_id1']\n",
    "val['title_id2'] = train['title_id2']\n",
    "val['description_id1'] = train['description_id1']\n",
    "val['description_id2'] = train['description_id2']"
   ]
  },
  {
   "cell_type": "code",
   "execution_count": 55,
   "metadata": {},
   "outputs": [
    {
     "data": {
      "text/plain": [
       "(502689, 23)"
      ]
     },
     "execution_count": 55,
     "metadata": {},
     "output_type": "execute_result"
    }
   ],
   "source": [
    "val.shape"
   ]
  },
  {
   "cell_type": "markdown",
   "metadata": {},
   "source": [
    "#### Testing"
   ]
  },
  {
   "cell_type": "code",
   "execution_count": 98,
   "metadata": {},
   "outputs": [],
   "source": [
    "values_test = test.drop(['target','title_id1', 'title_id2' , 'description_id2' , 'description_id1'], axis=1).values"
   ]
  },
  {
   "cell_type": "code",
   "execution_count": 99,
   "metadata": {},
   "outputs": [
    {
     "name": "stderr",
     "output_type": "stream",
     "text": [
      "/opt/anaconda3/lib/python3.7/site-packages/sklearn/impute/_iterative.py:638: ConvergenceWarning: [IterativeImputer] Early stopping criterion not reached.\n",
      "  \" reached.\", ConvergenceWarning)\n"
     ]
    }
   ],
   "source": [
    "val_test = MICE().fit_transform(values_test)"
   ]
  },
  {
   "cell_type": "code",
   "execution_count": 100,
   "metadata": {},
   "outputs": [],
   "source": [
    "val_test = pd.DataFrame(val_test)"
   ]
  },
  {
   "cell_type": "code",
   "execution_count": 101,
   "metadata": {},
   "outputs": [
    {
     "data": {
      "text/html": [
       "<div>\n",
       "<style scoped>\n",
       "    .dataframe tbody tr th:only-of-type {\n",
       "        vertical-align: middle;\n",
       "    }\n",
       "\n",
       "    .dataframe tbody tr th {\n",
       "        vertical-align: top;\n",
       "    }\n",
       "\n",
       "    .dataframe thead th {\n",
       "        text-align: right;\n",
       "    }\n",
       "</style>\n",
       "<table border=\"1\" class=\"dataframe\">\n",
       "  <thead>\n",
       "    <tr style=\"text-align: right;\">\n",
       "      <th></th>\n",
       "      <th>0</th>\n",
       "      <th>1</th>\n",
       "      <th>2</th>\n",
       "      <th>3</th>\n",
       "      <th>4</th>\n",
       "      <th>5</th>\n",
       "      <th>6</th>\n",
       "      <th>7</th>\n",
       "      <th>8</th>\n",
       "      <th>9</th>\n",
       "      <th>10</th>\n",
       "      <th>11</th>\n",
       "      <th>12</th>\n",
       "      <th>13</th>\n",
       "      <th>14</th>\n",
       "      <th>15</th>\n",
       "      <th>16</th>\n",
       "      <th>17</th>\n",
       "    </tr>\n",
       "  </thead>\n",
       "  <tbody>\n",
       "    <tr>\n",
       "      <th>0</th>\n",
       "      <td>223600.0</td>\n",
       "      <td>3.0</td>\n",
       "      <td>2.0</td>\n",
       "      <td>84.000000</td>\n",
       "      <td>250000.0</td>\n",
       "      <td>3.0</td>\n",
       "      <td>2.0</td>\n",
       "      <td>120.723658</td>\n",
       "      <td>1.0</td>\n",
       "      <td>0.0</td>\n",
       "      <td>0.0</td>\n",
       "      <td>0.0</td>\n",
       "      <td>0.0</td>\n",
       "      <td>1.0</td>\n",
       "      <td>0.0</td>\n",
       "      <td>0.0</td>\n",
       "      <td>0.0</td>\n",
       "      <td>0.0</td>\n",
       "    </tr>\n",
       "    <tr>\n",
       "      <th>1</th>\n",
       "      <td>213600.0</td>\n",
       "      <td>3.0</td>\n",
       "      <td>2.0</td>\n",
       "      <td>133.623731</td>\n",
       "      <td>250000.0</td>\n",
       "      <td>3.0</td>\n",
       "      <td>2.0</td>\n",
       "      <td>139.369348</td>\n",
       "      <td>1.0</td>\n",
       "      <td>0.0</td>\n",
       "      <td>0.0</td>\n",
       "      <td>0.0</td>\n",
       "      <td>0.0</td>\n",
       "      <td>1.0</td>\n",
       "      <td>0.0</td>\n",
       "      <td>0.0</td>\n",
       "      <td>0.0</td>\n",
       "      <td>0.0</td>\n",
       "    </tr>\n",
       "    <tr>\n",
       "      <th>2</th>\n",
       "      <td>240000.0</td>\n",
       "      <td>3.0</td>\n",
       "      <td>2.0</td>\n",
       "      <td>108.000000</td>\n",
       "      <td>250000.0</td>\n",
       "      <td>3.0</td>\n",
       "      <td>2.0</td>\n",
       "      <td>127.926298</td>\n",
       "      <td>1.0</td>\n",
       "      <td>0.0</td>\n",
       "      <td>0.0</td>\n",
       "      <td>0.0</td>\n",
       "      <td>0.0</td>\n",
       "      <td>1.0</td>\n",
       "      <td>0.0</td>\n",
       "      <td>0.0</td>\n",
       "      <td>0.0</td>\n",
       "      <td>0.0</td>\n",
       "    </tr>\n",
       "    <tr>\n",
       "      <th>3</th>\n",
       "      <td>240000.0</td>\n",
       "      <td>3.0</td>\n",
       "      <td>2.0</td>\n",
       "      <td>93.000000</td>\n",
       "      <td>250000.0</td>\n",
       "      <td>3.0</td>\n",
       "      <td>2.0</td>\n",
       "      <td>122.548720</td>\n",
       "      <td>1.0</td>\n",
       "      <td>0.0</td>\n",
       "      <td>0.0</td>\n",
       "      <td>0.0</td>\n",
       "      <td>0.0</td>\n",
       "      <td>1.0</td>\n",
       "      <td>0.0</td>\n",
       "      <td>0.0</td>\n",
       "      <td>0.0</td>\n",
       "      <td>0.0</td>\n",
       "    </tr>\n",
       "    <tr>\n",
       "      <th>4</th>\n",
       "      <td>240000.0</td>\n",
       "      <td>3.0</td>\n",
       "      <td>2.0</td>\n",
       "      <td>136.561956</td>\n",
       "      <td>250000.0</td>\n",
       "      <td>3.0</td>\n",
       "      <td>2.0</td>\n",
       "      <td>138.164976</td>\n",
       "      <td>1.0</td>\n",
       "      <td>0.0</td>\n",
       "      <td>0.0</td>\n",
       "      <td>0.0</td>\n",
       "      <td>0.0</td>\n",
       "      <td>1.0</td>\n",
       "      <td>0.0</td>\n",
       "      <td>0.0</td>\n",
       "      <td>0.0</td>\n",
       "      <td>0.0</td>\n",
       "    </tr>\n",
       "    <tr>\n",
       "      <th>...</th>\n",
       "      <td>...</td>\n",
       "      <td>...</td>\n",
       "      <td>...</td>\n",
       "      <td>...</td>\n",
       "      <td>...</td>\n",
       "      <td>...</td>\n",
       "      <td>...</td>\n",
       "      <td>...</td>\n",
       "      <td>...</td>\n",
       "      <td>...</td>\n",
       "      <td>...</td>\n",
       "      <td>...</td>\n",
       "      <td>...</td>\n",
       "      <td>...</td>\n",
       "      <td>...</td>\n",
       "      <td>...</td>\n",
       "      <td>...</td>\n",
       "      <td>...</td>\n",
       "    </tr>\n",
       "    <tr>\n",
       "      <th>215433</th>\n",
       "      <td>1550000.0</td>\n",
       "      <td>3.0</td>\n",
       "      <td>4.0</td>\n",
       "      <td>312.000000</td>\n",
       "      <td>1450000.0</td>\n",
       "      <td>3.0</td>\n",
       "      <td>4.0</td>\n",
       "      <td>205.000000</td>\n",
       "      <td>1.0</td>\n",
       "      <td>0.0</td>\n",
       "      <td>0.0</td>\n",
       "      <td>0.0</td>\n",
       "      <td>0.0</td>\n",
       "      <td>1.0</td>\n",
       "      <td>0.0</td>\n",
       "      <td>0.0</td>\n",
       "      <td>0.0</td>\n",
       "      <td>0.0</td>\n",
       "    </tr>\n",
       "    <tr>\n",
       "      <th>215434</th>\n",
       "      <td>713000.0</td>\n",
       "      <td>3.0</td>\n",
       "      <td>3.0</td>\n",
       "      <td>94.000000</td>\n",
       "      <td>795000.0</td>\n",
       "      <td>3.0</td>\n",
       "      <td>3.0</td>\n",
       "      <td>167.651286</td>\n",
       "      <td>1.0</td>\n",
       "      <td>0.0</td>\n",
       "      <td>0.0</td>\n",
       "      <td>0.0</td>\n",
       "      <td>0.0</td>\n",
       "      <td>1.0</td>\n",
       "      <td>0.0</td>\n",
       "      <td>0.0</td>\n",
       "      <td>0.0</td>\n",
       "      <td>0.0</td>\n",
       "    </tr>\n",
       "    <tr>\n",
       "      <th>215435</th>\n",
       "      <td>490000.0</td>\n",
       "      <td>3.0</td>\n",
       "      <td>2.0</td>\n",
       "      <td>144.754105</td>\n",
       "      <td>575000.0</td>\n",
       "      <td>3.0</td>\n",
       "      <td>2.0</td>\n",
       "      <td>144.000000</td>\n",
       "      <td>1.0</td>\n",
       "      <td>0.0</td>\n",
       "      <td>0.0</td>\n",
       "      <td>0.0</td>\n",
       "      <td>0.0</td>\n",
       "      <td>1.0</td>\n",
       "      <td>0.0</td>\n",
       "      <td>0.0</td>\n",
       "      <td>0.0</td>\n",
       "      <td>0.0</td>\n",
       "    </tr>\n",
       "    <tr>\n",
       "      <th>215436</th>\n",
       "      <td>490000.0</td>\n",
       "      <td>2.0</td>\n",
       "      <td>2.0</td>\n",
       "      <td>75.000000</td>\n",
       "      <td>510000.0</td>\n",
       "      <td>2.0</td>\n",
       "      <td>2.0</td>\n",
       "      <td>85.000000</td>\n",
       "      <td>1.0</td>\n",
       "      <td>0.0</td>\n",
       "      <td>0.0</td>\n",
       "      <td>0.0</td>\n",
       "      <td>0.0</td>\n",
       "      <td>1.0</td>\n",
       "      <td>0.0</td>\n",
       "      <td>0.0</td>\n",
       "      <td>0.0</td>\n",
       "      <td>0.0</td>\n",
       "    </tr>\n",
       "    <tr>\n",
       "      <th>215437</th>\n",
       "      <td>390000.0</td>\n",
       "      <td>4.0</td>\n",
       "      <td>2.0</td>\n",
       "      <td>213.000000</td>\n",
       "      <td>450000.0</td>\n",
       "      <td>3.0</td>\n",
       "      <td>2.0</td>\n",
       "      <td>310.000000</td>\n",
       "      <td>1.0</td>\n",
       "      <td>0.0</td>\n",
       "      <td>0.0</td>\n",
       "      <td>0.0</td>\n",
       "      <td>0.0</td>\n",
       "      <td>1.0</td>\n",
       "      <td>0.0</td>\n",
       "      <td>0.0</td>\n",
       "      <td>0.0</td>\n",
       "      <td>0.0</td>\n",
       "    </tr>\n",
       "  </tbody>\n",
       "</table>\n",
       "<p>215438 rows × 18 columns</p>\n",
       "</div>"
      ],
      "text/plain": [
       "               0    1    2           3          4    5    6           7    8    9    10   11   12   13   14   15   16   17\n",
       "0        223600.0  3.0  2.0   84.000000   250000.0  3.0  2.0  120.723658  1.0  0.0  0.0  0.0  0.0  1.0  0.0  0.0  0.0  0.0\n",
       "1        213600.0  3.0  2.0  133.623731   250000.0  3.0  2.0  139.369348  1.0  0.0  0.0  0.0  0.0  1.0  0.0  0.0  0.0  0.0\n",
       "2        240000.0  3.0  2.0  108.000000   250000.0  3.0  2.0  127.926298  1.0  0.0  0.0  0.0  0.0  1.0  0.0  0.0  0.0  0.0\n",
       "3        240000.0  3.0  2.0   93.000000   250000.0  3.0  2.0  122.548720  1.0  0.0  0.0  0.0  0.0  1.0  0.0  0.0  0.0  0.0\n",
       "4        240000.0  3.0  2.0  136.561956   250000.0  3.0  2.0  138.164976  1.0  0.0  0.0  0.0  0.0  1.0  0.0  0.0  0.0  0.0\n",
       "...           ...  ...  ...         ...        ...  ...  ...         ...  ...  ...  ...  ...  ...  ...  ...  ...  ...  ...\n",
       "215433  1550000.0  3.0  4.0  312.000000  1450000.0  3.0  4.0  205.000000  1.0  0.0  0.0  0.0  0.0  1.0  0.0  0.0  0.0  0.0\n",
       "215434   713000.0  3.0  3.0   94.000000   795000.0  3.0  3.0  167.651286  1.0  0.0  0.0  0.0  0.0  1.0  0.0  0.0  0.0  0.0\n",
       "215435   490000.0  3.0  2.0  144.754105   575000.0  3.0  2.0  144.000000  1.0  0.0  0.0  0.0  0.0  1.0  0.0  0.0  0.0  0.0\n",
       "215436   490000.0  2.0  2.0   75.000000   510000.0  2.0  2.0   85.000000  1.0  0.0  0.0  0.0  0.0  1.0  0.0  0.0  0.0  0.0\n",
       "215437   390000.0  4.0  2.0  213.000000   450000.0  3.0  2.0  310.000000  1.0  0.0  0.0  0.0  0.0  1.0  0.0  0.0  0.0  0.0\n",
       "\n",
       "[215438 rows x 18 columns]"
      ]
     },
     "execution_count": 101,
     "metadata": {},
     "output_type": "execute_result"
    }
   ],
   "source": [
    "val_test"
   ]
  },
  {
   "cell_type": "code",
   "execution_count": 102,
   "metadata": {},
   "outputs": [],
   "source": [
    "val_test.rename(columns = {0:'price_id1', 1:'bedrooms_id1', 2:'bathrooms_id1', 3:'totalArea_id1' , 4:'price_id2', 5:'bedrooms_id2', 6:'bathrooms_id2', 7:'totalArea_id2',\n",
    "                     8:'apartment_dummy_1' , 9:'house_dummy_1' , 10:'plot_dummy_1' , 11:'investment_dummy_1' , 12:'other_dummy_1',\n",
    "                      13:'apartment_dummy_2' , 14:'house_dummy_2' , 15:'plot_dummy_2' , 16:'investment_dummy_2' , 17:'other_dummy_2'},inplace=True)"
   ]
  },
  {
   "cell_type": "code",
   "execution_count": 113,
   "metadata": {},
   "outputs": [],
   "source": [
    "val_test['target'] = test['target']\n",
    "val_test['title_id1'] = test['title_id1']\n",
    "val_test['title_id2'] = test['title_id2']\n",
    "val_test['description_id1'] = test['description_id1']\n",
    "val_test['description_id2'] = test['description_id2']"
   ]
  },
  {
   "cell_type": "code",
   "execution_count": 116,
   "metadata": {},
   "outputs": [
    {
     "data": {
      "text/plain": [
       "(215438, 23)"
      ]
     },
     "execution_count": 116,
     "metadata": {},
     "output_type": "execute_result"
    }
   ],
   "source": [
    "val_test.shape"
   ]
  },
  {
   "cell_type": "markdown",
   "metadata": {},
   "source": [
    "## Export training and test dataframe"
   ]
  },
  {
   "cell_type": "code",
   "execution_count": 64,
   "metadata": {},
   "outputs": [],
   "source": [
    "val.to_csv('cleaned_data.csv',index=False)"
   ]
  },
  {
   "cell_type": "code",
   "execution_count": 118,
   "metadata": {},
   "outputs": [],
   "source": [
    "val_test.to_csv('cleaned_test_data.csv' , index=False)"
   ]
  },
  {
   "cell_type": "code",
   "execution_count": null,
   "metadata": {},
   "outputs": [],
   "source": []
  }
 ],
 "metadata": {
  "kernelspec": {
   "display_name": "Python 3",
   "language": "python",
   "name": "python3"
  },
  "language_info": {
   "codemirror_mode": {
    "name": "ipython",
    "version": 3
   },
   "file_extension": ".py",
   "mimetype": "text/x-python",
   "name": "python",
   "nbconvert_exporter": "python",
   "pygments_lexer": "ipython3",
   "version": "3.7.6"
  }
 },
 "nbformat": 4,
 "nbformat_minor": 4
}
