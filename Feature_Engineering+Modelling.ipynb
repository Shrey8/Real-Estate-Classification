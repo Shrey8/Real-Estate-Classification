{
 "cells": [
  {
   "cell_type": "markdown",
   "metadata": {},
   "source": [
    "# Feature Engineering"
   ]
  },
  {
   "cell_type": "code",
   "execution_count": 1,
   "metadata": {},
   "outputs": [],
   "source": [
    "import numpy as np\n",
    "import pandas as pd\n",
    "from numpy import dot\n",
    "from numpy.linalg import norm"
   ]
  },
  {
   "cell_type": "code",
   "execution_count": 2,
   "metadata": {},
   "outputs": [],
   "source": [
    "# Load training set\n",
    "df = pd.read_csv('cleaned_data.csv')"
   ]
  },
  {
   "cell_type": "code",
   "execution_count": 3,
   "metadata": {},
   "outputs": [
    {
     "data": {
      "text/plain": [
       "Index(['price_id1', 'bedrooms_id1', 'bathrooms_id1', 'totalArea_id1',\n",
       "       'price_id2', 'bedrooms_id2', 'bathrooms_id2', 'totalArea_id2',\n",
       "       'apartment_dummy_1', 'house_dummy_1', 'plot_dummy_1',\n",
       "       'investment_dummy_1', 'other_dummy_1', 'apartment_dummy_2',\n",
       "       'house_dummy_2', 'plot_dummy_2', 'investment_dummy_2', 'other_dummy_2',\n",
       "       'target', 'title_id1', 'title_id2', 'description_id1',\n",
       "       'description_id2'],\n",
       "      dtype='object')"
      ]
     },
     "execution_count": 3,
     "metadata": {},
     "output_type": "execute_result"
    }
   ],
   "source": [
    "df.keys()"
   ]
  },
  {
   "cell_type": "markdown",
   "metadata": {},
   "source": [
    "Our goal is to accurately predict if two real-estate listings are the same. They should in theory report similar prices, bedrooms, bathrooms, area size, type of property etc. The title and description should be similar as well. \n",
    "\n",
    "To capture differences we're going to subtract the differences amongst features from each listing. If they are similar we should see a lot of zeros, and this will also reduce features by half. For the description and title, we're going to use our Word2Vec Model and implement cosine similarity. "
   ]
  },
  {
   "cell_type": "markdown",
   "metadata": {},
   "source": [
    "### Numeric Features (differences)"
   ]
  },
  {
   "cell_type": "code",
   "execution_count": 4,
   "metadata": {},
   "outputs": [],
   "source": [
    "price_difference = np.abs(df['price_id1'] - df['price_id2'])\n",
    "bedroom_difference = np.abs(df['bedrooms_id1'] - df['bedrooms_id2'])\n",
    "bathroom_difference = np.abs(df['bathrooms_id1'] - df['bathrooms_id2'])\n",
    "area_difference = np.abs(df['totalArea_id1'] - df['totalArea_id2'])\n",
    "apartment_dummy_difference = np.abs(df['apartment_dummy_1'] - df['apartment_dummy_2'])\n",
    "house_dummy_difference = np.abs(df['house_dummy_1'] - df['house_dummy_2'])\n",
    "plot_dummy_difference = np.abs(df['plot_dummy_1'] - df['plot_dummy_2'])\n",
    "investment_dummy_difference = np.abs(df['investment_dummy_1'] - df['investment_dummy_2'])\n",
    "other_dummy_difference = np.abs(df['other_dummy_1'] - df['other_dummy_2'])"
   ]
  },
  {
   "cell_type": "markdown",
   "metadata": {},
   "source": [
    "###  Cosine Similarity"
   ]
  },
  {
   "cell_type": "code",
   "execution_count": 5,
   "metadata": {},
   "outputs": [],
   "source": [
    "# Description columns\n",
    "\n",
    "# Load Description columns vectorized by Word2Vec Model\n",
    "d1np = np.load('d1np.npy' , allow_pickle=True)\n",
    "d2np = np.load('d2np.npy' , allow_pickle=True)\n",
    "\n",
    "#Calculate cosine similarity\n",
    "description_cos_similarity = []\n",
    "for i in range(len(d1np)):\n",
    "        description_cos_similarity.append(np.dot(d1np[i],d2np[i])/(norm(d1np[i])*norm(d2np[i])))"
   ]
  },
  {
   "cell_type": "code",
   "execution_count": 6,
   "metadata": {},
   "outputs": [],
   "source": [
    "# Title columns\n",
    "\n",
    "# Load Title columns vectorized by Word2Vec Model\n",
    "t1np = np.load('t1np.npy' , allow_pickle=True)\n",
    "t2np = np.load('t2np.npy' , allow_pickle=True)\n",
    "\n",
    "# Calculate cosine similarity\n",
    "title_cos_similarity = []\n",
    "for i in range(len(t1np)):\n",
    "        title_cos_similarity.append(np.dot(t1np[i],t2np[i])/(norm(t1np[i])*norm(t2np[i])))"
   ]
  },
  {
   "cell_type": "code",
   "execution_count": 7,
   "metadata": {},
   "outputs": [],
   "source": [
    "features = pd.DataFrame()"
   ]
  },
  {
   "cell_type": "code",
   "execution_count": 8,
   "metadata": {},
   "outputs": [],
   "source": [
    "features['price_difference'] = price_difference\n",
    "features['bedroom_difference'] = bedroom_difference\n",
    "features['bathroom_difference'] = bathroom_difference\n",
    "features['area_difference'] = area_difference\n",
    "features['apartment_dummy_difference'] = apartment_dummy_difference\n",
    "features['house_dummy_difference'] = house_dummy_difference\n",
    "features['plot_dummy_difference'] = plot_dummy_difference\n",
    "features['investment_dummy_difference'] = investment_dummy_difference\n",
    "features['other_dummy_difference'] = other_dummy_difference"
   ]
  },
  {
   "cell_type": "code",
   "execution_count": 9,
   "metadata": {},
   "outputs": [],
   "source": [
    "features['description_cos_similarity'] = description_cos_similarity\n",
    "features['title_cos_similarity'] = title_cos_similarity"
   ]
  },
  {
   "cell_type": "code",
   "execution_count": 10,
   "metadata": {},
   "outputs": [],
   "source": [
    "features['target']  = df['target']"
   ]
  },
  {
   "cell_type": "code",
   "execution_count": 11,
   "metadata": {},
   "outputs": [
    {
     "data": {
      "text/plain": [
       "(502689, 12)"
      ]
     },
     "execution_count": 11,
     "metadata": {},
     "output_type": "execute_result"
    }
   ],
   "source": [
    "features.shape"
   ]
  },
  {
   "cell_type": "code",
   "execution_count": 12,
   "metadata": {},
   "outputs": [
    {
     "data": {
      "text/plain": [
       "price_difference               float64\n",
       "bedroom_difference             float64\n",
       "bathroom_difference            float64\n",
       "area_difference                float64\n",
       "apartment_dummy_difference     float64\n",
       "house_dummy_difference         float64\n",
       "plot_dummy_difference          float64\n",
       "investment_dummy_difference    float64\n",
       "other_dummy_difference         float64\n",
       "description_cos_similarity     float64\n",
       "title_cos_similarity           float64\n",
       "target                           int64\n",
       "dtype: object"
      ]
     },
     "execution_count": 12,
     "metadata": {},
     "output_type": "execute_result"
    }
   ],
   "source": [
    "features.dtypes"
   ]
  },
  {
   "cell_type": "code",
   "execution_count": 13,
   "metadata": {},
   "outputs": [],
   "source": [
    "X = features.iloc[:,:-1].values\n",
    "y = features['target'].values"
   ]
  },
  {
   "cell_type": "markdown",
   "metadata": {},
   "source": [
    "## Modelling"
   ]
  },
  {
   "cell_type": "markdown",
   "metadata": {},
   "source": [
    "Will implement three different models with different parameters and see which one fits the best. Will utilize AdaBoosting (HistGradientBoosting), Logistic Regression & XGBoost. \n",
    "\n",
    "Metric used will be % of correct cases predicted "
   ]
  },
  {
   "cell_type": "code",
   "execution_count": 14,
   "metadata": {},
   "outputs": [],
   "source": [
    "from sklearn.linear_model import LogisticRegression\n",
    "from sklearn.ensemble import AdaBoostClassifier\n",
    "import xgboost as xgb\n",
    "from sklearn.metrics import confusion_matrix"
   ]
  },
  {
   "cell_type": "markdown",
   "metadata": {},
   "source": [
    "##### XGBoost"
   ]
  },
  {
   "cell_type": "code",
   "execution_count": 15,
   "metadata": {},
   "outputs": [],
   "source": [
    "params = {\"objective\":\"binary:hinge\",'colsample_bytree': 0.3,'learning_rate': 0.1,\n",
    "                'max_depth': 5, 'alpha': 10}"
   ]
  },
  {
   "cell_type": "code",
   "execution_count": 16,
   "metadata": {},
   "outputs": [],
   "source": [
    "data_dmatrix = xgb.DMatrix(data=X,label=y)"
   ]
  },
  {
   "cell_type": "code",
   "execution_count": 17,
   "metadata": {},
   "outputs": [],
   "source": [
    "xg_class = xgb.train(params=params, dtrain=data_dmatrix, num_boost_round=50)"
   ]
  },
  {
   "cell_type": "code",
   "execution_count": 18,
   "metadata": {},
   "outputs": [],
   "source": [
    "y_pred = xg_class.predict(data_dmatrix)"
   ]
  },
  {
   "cell_type": "code",
   "execution_count": 19,
   "metadata": {},
   "outputs": [],
   "source": [
    "c = confusion_matrix(y,y_pred)"
   ]
  },
  {
   "cell_type": "code",
   "execution_count": 20,
   "metadata": {},
   "outputs": [
    {
     "name": "stdout",
     "output_type": "stream",
     "text": [
      "% of correct cases predicted is 81.94509925620017\n"
     ]
    }
   ],
   "source": [
    "correct_cases = ((c[0][0] + c[1][1])/ (c[0][0] + c[1][1] + c[1][0] + c[0][1]))*100\n",
    "print(\"% of correct cases predicted is \" + str(correct_cases))"
   ]
  },
  {
   "cell_type": "markdown",
   "metadata": {},
   "source": [
    "##### Logistic Regression"
   ]
  },
  {
   "cell_type": "code",
   "execution_count": 21,
   "metadata": {},
   "outputs": [
    {
     "data": {
      "text/plain": [
       "array([[393647,      0],\n",
       "       [109042,      0]])"
      ]
     },
     "execution_count": 21,
     "metadata": {},
     "output_type": "execute_result"
    }
   ],
   "source": [
    "logit = LogisticRegression()\n",
    "log_model = logit.fit(X,y)\n",
    "y_pred = log_model.predict(X)\n",
    "c = confusion_matrix(y,y_pred)\n",
    "c"
   ]
  },
  {
   "cell_type": "code",
   "execution_count": 22,
   "metadata": {},
   "outputs": [
    {
     "name": "stdout",
     "output_type": "stream",
     "text": [
      "% of correct cases predicted is 78.3082581874678\n"
     ]
    }
   ],
   "source": [
    "correct_cases = ((c[0][0] + c[1][1])/ (c[0][0] + c[1][1] + c[1][0] + c[0][1]))*100\n",
    "print(\"% of correct cases predicted is \" + str(correct_cases))"
   ]
  },
  {
   "cell_type": "markdown",
   "metadata": {},
   "source": [
    "Nearly mis-classifies everything. Does well on prediciting the true negatives but awful with the ones that are the same. In fact thinks that all every single listing is not the same. This is useless because here we are effectively just taking the average from our y-variable"
   ]
  },
  {
   "cell_type": "markdown",
   "metadata": {},
   "source": [
    "#### Ada Boosting"
   ]
  },
  {
   "cell_type": "code",
   "execution_count": 23,
   "metadata": {},
   "outputs": [],
   "source": [
    "clf = AdaBoostClassifier().fit(X,y)"
   ]
  },
  {
   "cell_type": "code",
   "execution_count": 24,
   "metadata": {},
   "outputs": [],
   "source": [
    "y_pred = clf.predict(X)"
   ]
  },
  {
   "cell_type": "code",
   "execution_count": 25,
   "metadata": {},
   "outputs": [
    {
     "name": "stdout",
     "output_type": "stream",
     "text": [
      "% of correct cases predicted is 85.57020344586812\n"
     ]
    }
   ],
   "source": [
    "c = confusion_matrix(y,y_pred)\n",
    "correct_cases = ((c[0][0] + c[1][1])/ (c[0][0] + c[1][1] + c[1][0] + c[0][1]))*100\n",
    "print(\"% of correct cases predicted is \" + str(correct_cases))"
   ]
  },
  {
   "cell_type": "code",
   "execution_count": 27,
   "metadata": {},
   "outputs": [],
   "source": [
    "feature_imp = pd.Series(clf.feature_importances_,index=features.iloc[:,:-1].columns).sort_values(ascending=False)"
   ]
  },
  {
   "cell_type": "code",
   "execution_count": 28,
   "metadata": {},
   "outputs": [
    {
     "name": "stderr",
     "output_type": "stream",
     "text": [
      "No handles with labels found to put in legend.\n"
     ]
    },
    {
     "data": {
      "image/png": "[encoded data removed]",
      "text/plain": [
       "<Figure size 432x288 with 1 Axes>"
      ]
     },
     "metadata": {
      "needs_background": "light"
     },
     "output_type": "display_data"
    }
   ],
   "source": [
    "import matplotlib.pyplot as plt\n",
    "import seaborn as sns\n",
    "%matplotlib inline\n",
    "# Creating a bar plot\n",
    "sns.barplot(x=feature_imp, y=feature_imp.index)\n",
    "# Add labels to your graph\n",
    "plt.xlabel('Feature Importance Score')\n",
    "plt.ylabel('Features')\n",
    "plt.title(\"Visualizing Important Features\")\n",
    "plt.legend()\n",
    "plt.show()"
   ]
  },
  {
   "cell_type": "markdown",
   "metadata": {},
   "source": [
    "#### HistGradientBoosting (Adaptation of Gradient Boosting)"
   ]
  },
  {
   "cell_type": "code",
   "execution_count": 29,
   "metadata": {},
   "outputs": [],
   "source": [
    " # explicitly require this experimental feature\n",
    "from sklearn.experimental import enable_hist_gradient_boosting  # noqa\n",
    "# now you can import normally from ensemble\n",
    "from sklearn.ensemble import HistGradientBoostingClassifier"
   ]
  },
  {
   "cell_type": "code",
   "execution_count": 30,
   "metadata": {},
   "outputs": [],
   "source": [
    "clf = HistGradientBoostingClassifier(loss='binary_crossentropy'  , max_iter= 2000).fit(X, y)"
   ]
  },
  {
   "cell_type": "code",
   "execution_count": 31,
   "metadata": {},
   "outputs": [],
   "source": [
    "y_pred = clf.predict(X)"
   ]
  },
  {
   "cell_type": "code",
   "execution_count": 32,
   "metadata": {},
   "outputs": [
    {
     "name": "stdout",
     "output_type": "stream",
     "text": [
      "% of correct cases predicted is 88.96176363517006\n"
     ]
    }
   ],
   "source": [
    "c = confusion_matrix(y,y_pred)\n",
    "correct_cases = ((c[0][0] + c[1][1])/ (c[0][0] + c[1][1] + c[1][0] + c[0][1]))*100\n",
    "print(\"% of correct cases predicted is \" + str(correct_cases))"
   ]
  },
  {
   "cell_type": "markdown",
   "metadata": {},
   "source": [
    "Testing over four models, HistGradientBoosting performs the best"
   ]
  },
  {
   "cell_type": "markdown",
   "metadata": {},
   "source": [
    "### Save Model will be used on test set "
   ]
  },
  {
   "cell_type": "code",
   "execution_count": 33,
   "metadata": {},
   "outputs": [],
   "source": [
    "import pickle\n",
    "filename = 'hist_gradient_boosting_finalized_model.sav'\n",
    "pickle.dump(clf, open(filename, 'wb'))"
   ]
  },
  {
   "cell_type": "code",
   "execution_count": null,
   "metadata": {},
   "outputs": [],
   "source": []
  }
 ],
 "metadata": {
  "kernelspec": {
   "display_name": "Python 3",
   "language": "python",
   "name": "python3"
  },
  "language_info": {
   "codemirror_mode": {
    "name": "ipython",
    "version": 3
   },
   "file_extension": ".py",
   "mimetype": "text/x-python",
   "name": "python",
   "nbconvert_exporter": "python",
   "pygments_lexer": "ipython3",
   "version": "3.7.6"
  }
 },
 "nbformat": 4,
 "nbformat_minor": 4
}
